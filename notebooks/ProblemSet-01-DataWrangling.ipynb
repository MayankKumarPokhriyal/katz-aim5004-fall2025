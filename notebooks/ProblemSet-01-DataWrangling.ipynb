{
 "cells": [
  {
   "cell_type": "code",
   "execution_count": null,
   "id": "1afbadd2-ed71-4f4f-aa95-02338be0a23e",
   "metadata": {},
   "outputs": [],
   "source": [
    "NAME = \"Mayank Kumar Pokhriyal\"\n",
    "COLLABORATORS = \"\""
   ]
  },
  {
   "cell_type": "markdown",
   "id": "a4c80f6a-1909-4044-bec2-cfb5f50a3f61",
   "metadata": {},
   "source": [
    "# Instructions\n",
    "\n",
    "1. Make sure you have filled out your \"NAME\" and \"COLLABORATORS\" (if any) in the previous cell.\n",
    "\n",
    "2. You should complete all code/markdown cells that state \"YOUR CODE HERE\" or \"YOUR ANSWER HERE\". \n",
    "   \n",
    "3. Before you turn this problem in, make sure everything runs as expected. First, **restart the kernel** (in the menubar, select Kernel$\\rightarrow$Restart) and then **run all cells** (in the menubar, select Cell$\\rightarrow$Run All).\n",
    "\n",
    "4. Partial credit can be obtained if your solution approach is clear and the documented within comments in the implementation.\n",
    "\n",
    "5. You should follow good coding practices. Your code should use type hints, be robust against invalid inputs, and you should also write a few test cases to check for correctness particularly including edge cases.  \n"
   ]
  },
  {
   "cell_type": "markdown",
   "id": "c9ac0a45-dcba-4342-92cc-d6157f9c4ad8",
   "metadata": {},
   "source": [
    "## Problem 1\n",
    "\n",
    "Write a python function which computes third power of a number if the number is odd, and the square of the number if the number is even."
   ]
  },
  {
   "cell_type": "code",
   "execution_count": null,
   "id": "8a8038a5-6603-4656-b66a-493dfc69ffa6",
   "metadata": {
    "nbgrader": {
     "cell_type": "code",
     "checksum": "ab5cc25f191920f285f301e32d8cacb6",
     "grade": false,
     "grade_id": "cell-14b79c9cb73bbf40",
     "locked": false,
     "schema_version": 3,
     "solution": true,
     "task": false
    },
    "tags": []
   },
   "outputs": [],
   "source": [
    "def parity_power(x: int) -> int:\n",
    "    if x == 0 or x == 1:\n",
    "        return 1\n",
    "    if x % 2 == 0:\n",
    "        return 2 ** x\n",
    "    else:\n",
    "        return 3 ** x\n",
    "    raise NotImplementedError()\n",
    "\n"
   ]
  },
  {
   "cell_type": "code",
   "execution_count": null,
   "id": "a21b5e3f-47b2-4024-963d-703812caaeb6",
   "metadata": {},
   "outputs": [],
   "source": [
    "# provide test cases\n",
    "\n",
    "print(parity_power(4))  # Expected output: 16\n",
    "print(parity_power(3))  # Expected output: 27   \n",
    "assert parity_power(1) == 1"
   ]
  },
  {
   "cell_type": "markdown",
   "id": "27312f8f-0127-4ddd-b03a-16b3ec4a996d",
   "metadata": {},
   "source": [
    "## Problem 2\n",
    "\n",
    "An important part of this course is to complete an ML based project over the course of the semester.  We are going to start right now!\n",
    "\n",
    "Read the description of the project uploaded on canvas and write down 2 potential ideas for your project.  "
   ]
  },
  {
   "cell_type": "markdown",
   "id": "909ed13f-bbaa-4c06-804f-51d03ceb4047",
   "metadata": {
    "nbgrader": {
     "cell_type": "markdown",
     "checksum": "94c245d935d153aae4844ae075062962",
     "grade": true,
     "grade_id": "cell-e119bc622f6ff41b",
     "locked": false,
     "points": 10,
     "schema_version": 3,
     "solution": true,
     "task": false
    },
    "tags": []
   },
   "source": [
    "YOUR ANSWER HERE"
   ]
  },
  {
   "cell_type": "markdown",
   "id": "b2e263c7-fb99-42f6-aa10-337f286cb9a7",
   "metadata": {},
   "source": [
    "## Problem 3\n",
    "\n",
    "This problem will test some of your programming skills and data wrangling ability.  \n",
    "\n",
    "We will start with a dataset from 'https://github.com/JeffSackmann/tennis_atp' which covers information on Tennis matches from the past few decades.  \n",
    "\n",
    "This dataset is provided by Jeff Sackman.\n",
    "\n",
    "Write a function *download_data_by_year* which takes the year as an input and returns a pandas dataframe with the data from the file of the form `atp_matches_{year}.csv`.  Implement a cache so that we do not download the data if it is already in the cache. \n",
    "\n",
    "**Hint**: The url you need to use to access the files in github is https://raw.githubusercontent.com/JeffSackmann/tennis_atp/master/atp_matches_{year}.csv"
   ]
  },
  {
   "cell_type": "code",
   "execution_count": 1,
   "id": "5f4c4314-0000-4ea7-9ebc-0156b6a3ad5a",
   "metadata": {
    "nbgrader": {
     "cell_type": "code",
     "checksum": "f4768215f068a6e9130081f9cd05e620",
     "grade": false,
     "grade_id": "cell-9954e13bab216e43",
     "locked": false,
     "schema_version": 3,
     "solution": true,
     "task": false
    },
    "tags": []
   },
   "outputs": [],
   "source": [
    "import pandas as pd\n",
    "# simple cache dictionary\n",
    "_data_cache = {}\n",
    "def download_data_by_year(year: int) -> pd.DataFrame:\n",
    "    # If already in cache, return it\n",
    "    if year in _data_cache:\n",
    "        print(f\"Fetching data for {year} from cache...\")\n",
    "        return _data_cache[year]\n",
    "    \n",
    "    # Build the url\n",
    "    url = f\"https://raw.githubusercontent.com/JeffSackmann/tennis_atp/master/atp_matches_{year}.csv\"\n",
    "    \n",
    "    # Download into DataFrame\n",
    "    df = pd.read_csv(url)\n",
    "    \n",
    "    # Save in cache\n",
    "    _data_cache[year] = df\n",
    "    print(f\"Downloaded data for {year} and cached it.\")\n",
    "    \n",
    "    return df\n",
    "   \n",
    "    raise NotImplementedError()"
   ]
  },
  {
   "cell_type": "markdown",
   "id": "dbbaa5bc",
   "metadata": {},
   "source": [
    "import os\n",
    "print(os.listdir())"
   ]
  },
  {
   "cell_type": "code",
   "execution_count": 2,
   "id": "79a1bd95",
   "metadata": {},
   "outputs": [
    {
     "name": "stdout",
     "output_type": "stream",
     "text": [
      "/Users/mayankpokhriyal/Documents/GitHub/Predective Models/katz-aim5004-fall2025/.venv/lib/python3.13/site-packages/pandas/__init__.py\n"
     ]
    }
   ],
   "source": [
    "import pandas as pd\n",
    "print(pd.__file__)"
   ]
  },
  {
   "cell_type": "code",
   "execution_count": 4,
   "id": "f4dd82d0-bda4-4e8d-8cff-7edd708d82f9",
   "metadata": {
    "editable": false,
    "nbgrader": {
     "cell_type": "code",
     "checksum": "a6f57484d4832b5dce9c1a611f022b68",
     "grade": true,
     "grade_id": "cell-bcd973ba4d369a21",
     "locked": true,
     "points": 10,
     "schema_version": 3,
     "solution": false,
     "task": false
    },
    "tags": []
   },
   "outputs": [
    {
     "name": "stdout",
     "output_type": "stream",
     "text": [
      "Fetching data for 2017 from cache...\n"
     ]
    }
   ],
   "source": [
    "df = download_data_by_year(2017)\n",
    "assert df.shape == (2911, 49)"
   ]
  },
  {
   "cell_type": "markdown",
   "id": "c41f3d14-c5a7-4476-8bf9-b7f9ac6a331f",
   "metadata": {},
   "source": [
    "## Problem 4\n",
    "Download the data for years 2000-2020 (inclusive).  Compute the average number of matches played per year on each surface for each month. \n",
    "\n",
    "Return your solution as a dictionary where the key is the (surface, month) pair as a tuple and the value is the average.\n",
    "\n",
    "**Hint**: You may have a case where no matches were played on a given surface in a month.  This should factor into your calculation as a zero."
   ]
  },
  {
   "cell_type": "code",
   "execution_count": 15,
   "id": "06a6a7e7-a10a-404b-ba7f-1fba0f66b8e2",
   "metadata": {
    "nbgrader": {
     "cell_type": "code",
     "checksum": "46b84cd6fba9d6ec9c4f1a53054236cb",
     "grade": false,
     "grade_id": "cell-be49d8719f86849f",
     "locked": false,
     "schema_version": 3,
     "solution": true,
     "task": false
    },
    "tags": []
   },
   "outputs": [],
   "source": [
    "from collections import defaultdict\n",
    "def get_statistics():\n",
    "    # Dictionaly for totals\n",
    "    surface_months_totals = defaultdict(int)\n",
    "    years_count = 2020-2000 + 1  # inclusive\n",
    "\n",
    "    # Loop over the number of years 2000-2020\n",
    "    for year in range(2000, 2021):\n",
    "        df = download_data_by_year(year)\n",
    "\n",
    "        # Ensure 'tourney_date' is in datetime format\n",
    "        df['tourney_date'] = pd.to_datetime(df['tourney_date'], format='%Y%m%d')\n",
    "\n",
    "        # Extract Month from 'tourney_date'\n",
    "        df['month'] = df['tourney_date'].dt.month\n",
    "\n",
    "\n",
    "\n",
    "        # Count matches for each surface and month\n",
    "        counts = df.groupby(['surface', 'month']).size().to_dict()\n",
    "        for (surface,month),count in counts.items():\n",
    "            surface_months_totals[(surface, month)] += count\n",
    "        \n",
    "        # Average over the number of years\n",
    "        surface_months_avg = defaultdict(float)\n",
    "        for key, total in surface_months_totals.items():\n",
    "            surface_months_avg[key] = total / years_count\n",
    "\n",
    "    return surface_months_avg"
   ]
  },
  {
   "cell_type": "code",
   "execution_count": 16,
   "id": "2ac981a8-d8e7-4d5b-b667-1f43601fdb62",
   "metadata": {
    "editable": false,
    "nbgrader": {
     "cell_type": "code",
     "checksum": "b08bbc9dbfac51532465a9452fc3dcab",
     "grade": true,
     "grade_id": "cell-8cb61f127b11a709",
     "locked": true,
     "points": 10,
     "schema_version": 3,
     "solution": false,
     "task": false
    },
    "tags": []
   },
   "outputs": [
    {
     "name": "stdout",
     "output_type": "stream",
     "text": [
      "Fetching data for 2000 from cache...\n",
      "Fetching data for 2001 from cache...\n",
      "Fetching data for 2002 from cache...\n",
      "Fetching data for 2003 from cache...\n",
      "Fetching data for 2004 from cache...\n",
      "Fetching data for 2005 from cache...\n",
      "Fetching data for 2006 from cache...\n",
      "Fetching data for 2007 from cache...\n",
      "Fetching data for 2008 from cache...\n",
      "Fetching data for 2009 from cache...\n",
      "Fetching data for 2010 from cache...\n",
      "Fetching data for 2011 from cache...\n",
      "Fetching data for 2012 from cache...\n",
      "Fetching data for 2013 from cache...\n",
      "Fetching data for 2014 from cache...\n",
      "Fetching data for 2015 from cache...\n",
      "Fetching data for 2016 from cache...\n",
      "Fetching data for 2017 from cache...\n",
      "Fetching data for 2018 from cache...\n",
      "Fetching data for 2019 from cache...\n",
      "Fetching data for 2020 from cache...\n"
     ]
    }
   ],
   "source": [
    "from numpy.testing import assert_allclose\n",
    "res = get_statistics()\n",
    "assert_allclose(res[('Carpet', 1)], 9)"
   ]
  },
  {
   "cell_type": "markdown",
   "id": "6fbf15ec-000f-448a-82c8-da1e4e1f8db5",
   "metadata": {
    "editable": false,
    "nbgrader": {
     "cell_type": "markdown",
     "checksum": "2346de55eb8baa31e60af8b854d5f573",
     "grade": false,
     "grade_id": "cell-be2dd85a6878fd5d",
     "locked": true,
     "points": 10,
     "schema_version": 3,
     "solution": false,
     "task": true
    },
    "tags": []
   },
   "source": [
    "# Problem 5\n",
    "\n",
    "Determine the BEST 5 players of all time.  There is not a definative answer here, this is your chance to show your creativity.  Please also explain how you arrived at your rankings.  You are free to use web resources to support your answer, but you MUST cite them as you use them.\n",
    "\n",
    "You should answer questions like:\n",
    "\n",
    "1. How did you define BEST?\n",
    "2. Where do you believe your analysis is flawed?\n",
    "3. What could you do to improve your analysis?"
   ]
  },
  {
   "cell_type": "code",
   "execution_count": 32,
   "id": "5f96d689-a6c5-4897-8541-10fced5c53db",
   "metadata": {},
   "outputs": [
    {
     "name": "stdout",
     "output_type": "stream",
     "text": [
      "Fetching data for 2000 from cache...\n",
      "Fetching data for 2001 from cache...\n",
      "Fetching data for 2002 from cache...\n",
      "Fetching data for 2003 from cache...\n",
      "Fetching data for 2004 from cache...\n",
      "Fetching data for 2005 from cache...\n",
      "Fetching data for 2006 from cache...\n",
      "Fetching data for 2007 from cache...\n",
      "Fetching data for 2008 from cache...\n",
      "Fetching data for 2009 from cache...\n",
      "Fetching data for 2010 from cache...\n",
      "Fetching data for 2011 from cache...\n",
      "Fetching data for 2012 from cache...\n",
      "Fetching data for 2013 from cache...\n",
      "Fetching data for 2014 from cache...\n",
      "Fetching data for 2015 from cache...\n",
      "Fetching data for 2016 from cache...\n",
      "Fetching data for 2017 from cache...\n",
      "Fetching data for 2018 from cache...\n",
      "Fetching data for 2019 from cache...\n",
      "Fetching data for 2020 from cache...\n",
      "             name  winner_id  win_loss_ratio  titles  total_wins  total_losses\n",
      "0  Novak Djokovic     104925        4.901554     257         946           193\n",
      "1   Roger Federer     103819        4.866667     333        1241           255\n",
      "2    Rafael Nadal     104745        4.828571     282        1014           210\n",
      "3     Andy Murray     104918        3.341463     221         685           205\n",
      "4    Andre Agassi     101736        3.162791      79         272            86\n"
     ]
    },
    {
     "data": {
      "image/png": "[encoded data removed]",
      "text/plain": [
       "<Figure size 800x500 with 2 Axes>"
      ]
     },
     "metadata": {},
     "output_type": "display_data"
    },
    {
     "data": {
      "image/png": "[encoded data removed]",
      "text/plain": [
       "<Figure size 800x500 with 1 Axes>"
      ]
     },
     "metadata": {},
     "output_type": "display_data"
    }
   ],
   "source": [
    "# Implementation: Identify Top 5 Best Tennis Players (2000-2020)\n",
    "import pandas as pd\n",
    "from collections import defaultdict, Counter\n",
    "import matplotlib.pyplot as plt\n",
    "\n",
    "# Step 1: Download and combine data for 2000-2020\n",
    "all_years = []\n",
    "for year in range(2000, 2021):\n",
    "    df = download_data_by_year(year)\n",
    "    all_years.append(df)\n",
    "df_all = pd.concat(all_years, ignore_index=True)\n",
    "\n",
    "# Step 2: Calculate stats for each player\n",
    "player_stats = defaultdict(lambda: {\n",
    "    'name': None,\n",
    "    'total_wins': 0,\n",
    "    'total_losses': 0,\n",
    "    'matches': 0,\n",
    "    'titles': set(),\n",
    "    'surface_wins': Counter(),\n",
    "    'surface_losses': Counter()\n",
    "})\n",
    "\n",
    "for _, row in df_all.iterrows():\n",
    "    winner_id = row['winner_id']\n",
    "    loser_id = row['loser_id']\n",
    "    winner_name = row['winner_name']\n",
    "    loser_name = row['loser_name']\n",
    "    surface = row['surface']\n",
    "    tourney_id = row['tourney_id']\n",
    "    # Update winner\n",
    "    player_stats[winner_id]['name'] = winner_name\n",
    "    player_stats[winner_id]['total_wins'] += 1\n",
    "    player_stats[winner_id]['matches'] += 1\n",
    "    player_stats[winner_id]['surface_wins'][surface] += 1\n",
    "    player_stats[winner_id]['titles'].add((tourney_id, row['tourney_date']))\n",
    "    # Update loser\n",
    "    player_stats[loser_id]['name'] = loser_name\n",
    "    player_stats[loser_id]['total_losses'] += 1\n",
    "    player_stats[loser_id]['matches'] += 1\n",
    "    player_stats[loser_id]['surface_losses'][surface] += 1\n",
    "\n",
    "# Step 3: Compute win/loss ratios and filter players\n",
    "player_summary = []\n",
    "for pid, stats in player_stats.items():\n",
    "    if stats['matches'] < 100:\n",
    "        continue  # filter for significance\n",
    "    total_wins = stats['total_wins']\n",
    "    total_losses = stats['total_losses']\n",
    "    win_loss_ratio = total_wins / total_losses if total_losses > 0 else float('inf')\n",
    "    surface_ratios = {}\n",
    "    for surface in ['Hard', 'Clay', 'Grass', 'Carpet']:\n",
    "        wins = stats['surface_wins'][surface]\n",
    "        losses = stats['surface_losses'][surface]\n",
    "        ratio = wins / losses if losses > 0 else float('inf') if wins > 0 else 0\n",
    "        surface_ratios[surface] = ratio\n",
    "    titles_count = len(set([tid for tid, _ in stats['titles']]))\n",
    "    player_summary.append({\n",
    "        'winner_id': pid,\n",
    "        'name': stats['name'],\n",
    "        'win_loss_ratio': win_loss_ratio,\n",
    "        'titles': titles_count,\n",
    "        'surface_ratios': surface_ratios,\n",
    "        'total_wins': total_wins,\n",
    "        'total_losses': total_losses\n",
    "    })\n",
    "\n",
    "# Step 4: Rank players (by win/loss ratio, then titles)\n",
    "player_summary.sort(key=lambda x: (x['win_loss_ratio'], x['titles']), reverse=True)\n",
    "top5 = player_summary[:5]\n",
    "\n",
    "top5_df = pd.DataFrame(top5)\n",
    "print(top5_df[['name', 'winner_id', 'win_loss_ratio', 'titles', 'total_wins', 'total_losses']])\n",
    "\n",
    "# Step 5: Plot comparison of win/loss ratio and titles\n",
    "fig, ax1 = plt.subplots(figsize=(8, 5))\n",
    "color = 'tab:blue'\n",
    "ax1.set_xlabel('Player')\n",
    "ax1.set_ylabel('Win/Loss Ratio', color=color)\n",
    "ax1.bar(top5_df['name'], top5_df['win_loss_ratio'], color=color, alpha=0.7, label='Win/Loss Ratio')\n",
    "ax1.tick_params(axis='y', labelcolor=color)\n",
    "\n",
    "ax2 = ax1.twinx()\n",
    "color = 'tab:orange'\n",
    "ax2.set_ylabel('Titles', color=color)\n",
    "ax2.plot(top5_df['name'], top5_df['titles'], color=color, marker='o', label='Titles')\n",
    "ax2.tick_params(axis='y', labelcolor=color)\n",
    "\n",
    "plt.title('Top 5 Players (2000-2020): Win/Loss Ratio and Titles')\n",
    "fig.tight_layout()\n",
    "plt.show()\n",
    "\n",
    "# Optional: Compare surface win/loss ratios\n",
    "surface_df = pd.DataFrame([p['surface_ratios'] for p in top5], index=top5_df['name'])\n",
    "surface_df.plot(kind='bar', figsize=(8,5), title='Top 5 Players: Surface Win/Loss Ratios')\n",
    "plt.ylabel('Win/Loss Ratio')\n",
    "plt.xlabel('Player')\n",
    "plt.tight_layout()\n",
    "plt.show()"
   ]
  },
  {
   "cell_type": "markdown",
   "id": "8e23a18b-b05d-4114-9103-be5a4541deb4",
   "metadata": {},
   "source": [
    "### 1. How did you define BEST?\n",
    "\n",
    "I defined the \"best\" players based on a combination of their overall win/loss ratio, the number of titles won, and their performance across different surfaces (hard, clay, grass, carpet) from 2000 to 2020. Players were filtered to include only those with at least 100 matches to ensure statistical significance. The final ranking prioritized win/loss ratio, with titles as a secondary criterion, and surface versatility as an additional indicator of greatness.\n",
    "\n",
    "### 2. Where do you believe your analysis is flawed?\n",
    "\n",
    "- The analysis does not account for the quality of opponents (e.g., beating top-10 players vs. lower-ranked players).\n",
    "- It treats all titles equally, not distinguishing between Grand Slams, Masters, and lower-tier tournaments.\n",
    "- The win/loss ratio can be inflated for players with fewer matches or those who played mostly in lower-level events.\n",
    "- Surface ratios may be skewed if a player specializes in one surface or avoids others.\n",
    "- The analysis does not consider longevity, injuries, or the context of different eras within 2000–2020.\n",
    "\n",
    "### 3. What could you do to improve your analysis?\n",
    "\n",
    "- Weight titles by tournament importance (e.g., Grand Slams > Masters > ATP 250).\n",
    "- Incorporate opponent ranking or Elo rating to adjust for match difficulty.\n",
    "- Include head-to-head records among top players.\n",
    "- Analyze performance in high-stakes matches (finals, semifinals).\n",
    "- Consider additional metrics like sets/games won, dominance on each surface, and consistency over time.\n",
    "- Use advanced statistical or machine learning models to combine multiple factors for a more holistic ranking.\n",
    "\n",
    "**References:**\n",
    "- [Jeff Sackmann Tennis Data](https://github.com/JeffSackmann/tennis_atp)\n",
    "- [ATP Tour Rankings](https://www.atptour.com/en/rankings/singles)\n"
   ]
  },
  {
   "cell_type": "markdown",
   "id": "bf0e381a",
   "metadata": {},
   "source": []
  }
 ],
 "metadata": {
  "kernelspec": {
   "display_name": ".venv",
   "language": "python",
   "name": "python3"
  },
  "language_info": {
   "codemirror_mode": {
    "name": "ipython",
    "version": 3
   },
   "file_extension": ".py",
   "mimetype": "text/x-python",
   "name": "python",
   "nbconvert_exporter": "python",
   "pygments_lexer": "ipython3",
   "version": "3.13.1"
  }
 },
 "nbformat": 4,
 "nbformat_minor": 5
}
