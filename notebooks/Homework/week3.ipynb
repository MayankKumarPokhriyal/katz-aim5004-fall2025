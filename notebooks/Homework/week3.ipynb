{
 "cells": [
  {
   "cell_type": "code",
   "execution_count": 2,
   "id": "9f17cc10",
   "metadata": {},
   "outputs": [
    {
     "ename": "ModuleNotFoundError",
     "evalue": "No module named 'sklearn'",
     "output_type": "error",
     "traceback": [
      "\u001b[0;31m---------------------------------------------------------------------------\u001b[0m",
      "\u001b[0;31mModuleNotFoundError\u001b[0m                       Traceback (most recent call last)",
      "Cell \u001b[0;32mIn[2], line 3\u001b[0m\n\u001b[1;32m      1\u001b[0m \u001b[38;5;28;01mimport\u001b[39;00m\u001b[38;5;250m \u001b[39m\u001b[38;5;21;01mnumpy\u001b[39;00m\u001b[38;5;250m \u001b[39m\u001b[38;5;28;01mas\u001b[39;00m\u001b[38;5;250m \u001b[39m\u001b[38;5;21;01mnp\u001b[39;00m\n\u001b[1;32m      2\u001b[0m \u001b[38;5;28;01mimport\u001b[39;00m\u001b[38;5;250m \u001b[39m\u001b[38;5;21;01mmatplotlib\u001b[39;00m\u001b[38;5;21;01m.\u001b[39;00m\u001b[38;5;21;01mpyplot\u001b[39;00m\u001b[38;5;250m \u001b[39m\u001b[38;5;28;01mas\u001b[39;00m\u001b[38;5;250m \u001b[39m\u001b[38;5;21;01mplt\u001b[39;00m\n\u001b[0;32m----> 3\u001b[0m \u001b[38;5;28;01mfrom\u001b[39;00m\u001b[38;5;250m \u001b[39m\u001b[38;5;21;01msklearn\u001b[39;00m\u001b[38;5;21;01m.\u001b[39;00m\u001b[38;5;21;01mtree\u001b[39;00m\u001b[38;5;250m \u001b[39m\u001b[38;5;28;01mimport\u001b[39;00m DecisionTreeRegressor\n\u001b[1;32m      4\u001b[0m \u001b[38;5;28;01mfrom\u001b[39;00m\u001b[38;5;250m \u001b[39m\u001b[38;5;21;01msklearn\u001b[39;00m\u001b[38;5;21;01m.\u001b[39;00m\u001b[38;5;21;01mmetrics\u001b[39;00m\u001b[38;5;250m \u001b[39m\u001b[38;5;28;01mimport\u001b[39;00m mean_squared_error\n\u001b[1;32m      6\u001b[0m \u001b[38;5;66;03m# 1. Modify the generateData function to accept epsilon\u001b[39;00m\n",
      "\u001b[0;31mModuleNotFoundError\u001b[0m: No module named 'sklearn'"
     ]
    }
   ],
   "source": [
    "import numpy as np\n",
    "import matplotlib.pyplot as plt\n",
    "from sklearn.tree import DecisionTreeRegressor\n",
    "from sklearn.metrics import mean_squared_error\n",
    "\n",
    "# 1. Modify the generateData function to accept epsilon\n",
    "def generateData(nsamp, epsilon):\n",
    "    \"\"\"Generates a synthetic dataset with a quadratic target and Gaussian noise.\"\"\"\n",
    "    X = np.random.rand(nsamp, 1) - 0.5  # A single random input feature\n",
    "    y = X ** 2 + epsilon * np.random.randn(nsamp, 1) # Added epsilon parameter\n",
    "    return X, y\n",
    "\n",
    "# Set the number of samples for training and testing\n",
    "n_samp_train = 200\n",
    "n_samp_test = 1000\n",
    "\n",
    "# Define the noise levels (epsilon) to test\n",
    "epsilons = [0.0125, 0.025, 0.05, 0.0625, 0.075]\n",
    "\n",
    "# Store the optimal max_leaf_nodes for each epsilon\n",
    "optimal_max_leaf_nodes = []\n",
    "\n",
    "# 2. Loop through different epsilon values\n",
    "for epsilon in epsilons:\n",
    "    # Generate new training and test data for each epsilon\n",
    "    X_train, y_train = generateData(n_samp_train, epsilon)\n",
    "    X_test, y_test = generateData(n_samp_test, epsilon)\n",
    "\n",
    "    # Store test errors for different max_leaf_nodes\n",
    "    test_errors = []\n",
    "    \n",
    "    # 3. Vary max_leaf_nodes from 2 to 20\n",
    "    for max_leaf_nodes in range(2, 21):\n",
    "        # Create and train the DecisionTreeRegressor\n",
    "        tree_reg = DecisionTreeRegressor(max_leaf_nodes=max_leaf_nodes, random_state=42)\n",
    "        tree_reg.fit(X_train, y_train)\n",
    "        \n",
    "        # Make predictions on the test set and calculate the MSE\n",
    "        y_pred_test = tree_reg.predict(X_test)\n",
    "        mse_test = mean_squared_error(y_test, y_pred_test)\n",
    "        test_errors.append(mse_test)\n",
    "\n",
    "    # 4. Find the optimal max_leaf_nodes with the minimum test error\n",
    "    min_error = min(test_errors)\n",
    "    optimal_mln = range(2, 21)[test_errors.index(min_error)]\n",
    "    optimal_max_leaf_nodes.append(optimal_mln)\n",
    "    \n",
    "    # Print the results for each epsilon\n",
    "    print(f\"Epsilon: {epsilon:.4f}, Optimal max_leaf_nodes: {optimal_mln}, Minimum Test MSE: {min_error:.5f}\")\n",
    "\n",
    "# 5. Plot the optimal max_leaf_nodes versus epsilon\n",
    "plt.figure(figsize=(10, 6))\n",
    "plt.plot(epsilons, optimal_max_leaf_nodes, 'o-', color='darkgreen')\n",
    "plt.title('Optimal max_leaf_nodes vs. Noise Level ($\\epsilon$)', fontsize=16)\n",
    "plt.xlabel('Noise Level ($\\epsilon$)', fontsize=14)\n",
    "plt.ylabel('Optimal max_leaf_nodes', fontsize=14)\n",
    "plt.grid(True)\n",
    "plt.xticks(epsilons)\n",
    "plt.show()"
   ]
  },
  {
   "cell_type": "code",
   "execution_count": null,
   "id": "9d41c1b9",
   "metadata": {},
   "outputs": [],
   "source": []
  }
 ],
 "metadata": {
  "kernelspec": {
   "display_name": ".venv",
   "language": "python",
   "name": "python3"
  },
  "language_info": {
   "codemirror_mode": {
    "name": "ipython",
    "version": 3
   },
   "file_extension": ".py",
   "mimetype": "text/x-python",
   "name": "python",
   "nbconvert_exporter": "python",
   "pygments_lexer": "ipython3",
   "version": "3.9.13"
  }
 },
 "nbformat": 4,
 "nbformat_minor": 5
}
